{
 "cells": [
  {
   "cell_type": "code",
   "execution_count": 24,
   "id": "built-group",
   "metadata": {},
   "outputs": [],
   "source": [
    "import pandas as pd\n",
    "import random\n",
    "import numpy as np\n",
    "import random\n",
    "import tensorflow as tf\n",
    "import operator"
   ]
  },
  {
   "cell_type": "code",
   "execution_count": 25,
   "id": "honey-shoulder",
   "metadata": {},
   "outputs": [
    {
     "data": {
      "text/html": [
       "<div>\n",
       "<style scoped>\n",
       "    .dataframe tbody tr th:only-of-type {\n",
       "        vertical-align: middle;\n",
       "    }\n",
       "\n",
       "    .dataframe tbody tr th {\n",
       "        vertical-align: top;\n",
       "    }\n",
       "\n",
       "    .dataframe thead th {\n",
       "        text-align: right;\n",
       "    }\n",
       "</style>\n",
       "<table border=\"1\" class=\"dataframe\">\n",
       "  <thead>\n",
       "    <tr style=\"text-align: right;\">\n",
       "      <th></th>\n",
       "      <th>x</th>\n",
       "      <th>f(x)</th>\n",
       "    </tr>\n",
       "  </thead>\n",
       "  <tbody>\n",
       "    <tr>\n",
       "      <th>0</th>\n",
       "      <td>-0.66</td>\n",
       "      <td>18.37</td>\n",
       "    </tr>\n",
       "    <tr>\n",
       "      <th>1</th>\n",
       "      <td>2.99</td>\n",
       "      <td>5.00</td>\n",
       "    </tr>\n",
       "    <tr>\n",
       "      <th>2</th>\n",
       "      <td>2.65</td>\n",
       "      <td>5.12</td>\n",
       "    </tr>\n",
       "    <tr>\n",
       "      <th>3</th>\n",
       "      <td>-1.72</td>\n",
       "      <td>27.31</td>\n",
       "    </tr>\n",
       "    <tr>\n",
       "      <th>4</th>\n",
       "      <td>4.33</td>\n",
       "      <td>6.76</td>\n",
       "    </tr>\n",
       "    <tr>\n",
       "      <th>5</th>\n",
       "      <td>1.94</td>\n",
       "      <td>6.13</td>\n",
       "    </tr>\n",
       "    <tr>\n",
       "      <th>6</th>\n",
       "      <td>-1.02</td>\n",
       "      <td>21.17</td>\n",
       "    </tr>\n",
       "    <tr>\n",
       "      <th>7</th>\n",
       "      <td>0.05</td>\n",
       "      <td>13.73</td>\n",
       "    </tr>\n",
       "    <tr>\n",
       "      <th>8</th>\n",
       "      <td>-1.77</td>\n",
       "      <td>27.78</td>\n",
       "    </tr>\n",
       "    <tr>\n",
       "      <th>9</th>\n",
       "      <td>1.06</td>\n",
       "      <td>8.76</td>\n",
       "    </tr>\n",
       "  </tbody>\n",
       "</table>\n",
       "</div>"
      ],
      "text/plain": [
       "      x   f(x)\n",
       "0 -0.66  18.37\n",
       "1  2.99   5.00\n",
       "2  2.65   5.12\n",
       "3 -1.72  27.31\n",
       "4  4.33   6.76\n",
       "5  1.94   6.13\n",
       "6 -1.02  21.17\n",
       "7  0.05  13.73\n",
       "8 -1.77  27.78\n",
       "9  1.06   8.76"
      ]
     },
     "execution_count": 25,
     "metadata": {},
     "output_type": "execute_result"
    }
   ],
   "source": [
    "data=pd.read_csv(\"../HW-2-Machine-reasoning/dataset1.csv\")\n",
    "data.head(10)"
   ]
  },
  {
   "cell_type": "code",
   "execution_count": 26,
   "id": "constitutional-station",
   "metadata": {},
   "outputs": [
    {
     "data": {
      "text/plain": [
       "0   -0.66\n",
       "1    2.99\n",
       "2    2.65\n",
       "3   -1.72\n",
       "4    4.33\n",
       "5    1.94\n",
       "6   -1.02\n",
       "7    0.05\n",
       "8   -1.77\n",
       "9    1.06\n",
       "Name: x, dtype: float64"
      ]
     },
     "execution_count": 26,
     "metadata": {},
     "output_type": "execute_result"
    }
   ],
   "source": [
    "data_x = data[\"x\"]\n",
    "data_x.head(10)"
   ]
  },
  {
   "cell_type": "code",
   "execution_count": 27,
   "id": "appropriate-basin",
   "metadata": {},
   "outputs": [
    {
     "data": {
      "text/plain": [
       "0    18.37\n",
       "1     5.00\n",
       "2     5.12\n",
       "3    27.31\n",
       "4     6.76\n",
       "5     6.13\n",
       "6    21.17\n",
       "7    13.73\n",
       "8    27.78\n",
       "9     8.76\n",
       "Name: f(x), dtype: float64"
      ]
     },
     "execution_count": 27,
     "metadata": {},
     "output_type": "execute_result"
    }
   ],
   "source": [
    "data_y = data[\"f(x)\"]\n",
    "data_y.head(10)"
   ]
  },
  {
   "cell_type": "code",
   "execution_count": 28,
   "id": "upset-anxiety",
   "metadata": {},
   "outputs": [],
   "source": [
    "F = ['+','-','*','/']"
   ]
  },
  {
   "cell_type": "code",
   "execution_count": 29,
   "id": "consecutive-steal",
   "metadata": {},
   "outputs": [],
   "source": [
    "T = ['x']+ list(range(-5,6))"
   ]
  },
  {
   "cell_type": "code",
   "execution_count": 30,
   "id": "downtown-junction",
   "metadata": {},
   "outputs": [],
   "source": [
    "ran = [F,T]"
   ]
  },
  {
   "cell_type": "code",
   "execution_count": 31,
   "id": "protecting-republic",
   "metadata": {},
   "outputs": [],
   "source": [
    "tf = [True,False]"
   ]
  },
  {
   "cell_type": "code",
   "execution_count": 32,
   "id": "fundamental-confidence",
   "metadata": {},
   "outputs": [
    {
     "name": "stdout",
     "output_type": "stream",
     "text": [
      "['x', -5, -4, -3, -2, -1, 0, 1, 2, 3, 4, 5]\n"
     ]
    }
   ],
   "source": [
    "print(T)"
   ]
  },
  {
   "cell_type": "code",
   "execution_count": 33,
   "id": "nuclear-reader",
   "metadata": {},
   "outputs": [],
   "source": [
    "class Node():\n",
    "    def __init__(self, *args):\n",
    "        if(len(args) > 1):\n",
    "            self.val = args[0]\n",
    "            self.left = args[1]\n",
    "            self.right = args[2]\n",
    "        else:\n",
    "            self.val = args[0]\n",
    "            self.left = None\n",
    "            self.right = None\n",
    "            \n",
    "    def insert_left(self, child):\n",
    "        if (self.left == None):\n",
    "            self.left = child\n",
    "        else:\n",
    "            child.left = self.left\n",
    "            self.left = child\n",
    "    def insert_right(self, child):\n",
    "        if(self.right == None):\n",
    "            self.right = child\n",
    "        else:\n",
    "            child.right = self.right\n",
    "            self.right = child\n",
    "    def evaluate(self, x):\n",
    "        if(self.val in T):\n",
    "            if(self.val == 'x'):\n",
    "                return int(x)\n",
    "            else:\n",
    "                return int(self.val)\n",
    "        elif(self.val in F):\n",
    "            if(self.val == '+'):\n",
    "                left = self.left.evaluate(x)\n",
    "                right = self.right.evaluate(x)\n",
    "                return left + right\n",
    "            elif(self.val == '-'):\n",
    "                left = self.left.evaluate(x)\n",
    "                right = self.right.evaluate(x)\n",
    "                return left - right\n",
    "            elif(self.val == '*'):\n",
    "                left = self.left.evaluate(x)\n",
    "                right = self.right.evaluate(x)\n",
    "                return left * right\n",
    "            elif(self.val == '/'):\n",
    "                if(self.right.evaluate(x) == 0):\n",
    "                    return 1\n",
    "                left = self.left.evaluate(x)\n",
    "                right = self.right.evaluate(x)\n",
    "                return left / right\n",
    "    def fitness(self, x, y):\n",
    "        return abs(self.evaluate(x)-y)\n",
    "        "
   ]
  },
  {
   "cell_type": "code",
   "execution_count": 34,
   "id": "involved-tennessee",
   "metadata": {},
   "outputs": [],
   "source": [
    "\n",
    "def print2D(root, space) :\n",
    "\n",
    "    if (root == None) :\n",
    "        return\n",
    "    # Increase distance between levels\n",
    "    space += 10\n",
    "\n",
    "    print2D(root.right, space)\n",
    "\n",
    "    # Print current node after space\n",
    "    print()\n",
    "    for i in range(10, space):\n",
    "        print(end = \" \")\n",
    "    print(root.val)\n",
    "\n",
    "    print2D(root.left, space)\n",
    "\n"
   ]
  },
  {
   "cell_type": "code",
   "execution_count": 35,
   "id": "constitutional-pattern",
   "metadata": {},
   "outputs": [],
   "source": [
    "def calculate_mse(x_data, y_data, tree):\n",
    "    total = 0\n",
    "    for i in range(len(x_data)):\n",
    "        total += (tree.fitness(x_data[i],y_data[i]) ** 2)\n",
    "    return total/len(x_data)"
   ]
  },
  {
   "cell_type": "code",
   "execution_count": 36,
   "id": "judicial-manner",
   "metadata": {},
   "outputs": [],
   "source": [
    "def generate_tree_shapes(size):\n",
    "    root = Node(random.choice(random.choice(ran)))\n",
    "    for i in range(size):\n",
    "        if(random.choice(tf)):\n",
    "            root.insert_right(Node(random.choice(random.choice(ran))))\n",
    "            if(random.choice(tf)):\n",
    "                root.right.insert_right(Node(random.choice(random.choice(ran))))\n",
    "            if(random.choice(tf)):\n",
    "                root.right.insert_left(Node(random.choice(random.choice(ran))))\n",
    "        \n",
    "        if(random.choice(tf)):\n",
    "            root.insert_left(Node(random.choice(random.choice(ran))))\n",
    "            if(random.choice(tf)):\n",
    "                root.left.insert_right(Node(random.choice(random.choice(ran))))\n",
    "            if(random.choice(tf)):\n",
    "                root.left.insert_left(Node(random.choice(random.choice(ran))))\n",
    "\n",
    "    return root"
   ]
  },
  {
   "cell_type": "code",
   "execution_count": 37,
   "id": "affiliated-lobby",
   "metadata": {},
   "outputs": [],
   "source": [
    "\n",
    "def generate_tree(size, root):\n",
    "    if(size == 1):\n",
    "        root.right = Node(random.choice(T))\n",
    "        root.left = Node(random.choice(T))\n",
    "    else:\n",
    "        #right node\n",
    "        newNode = random.choice(ran)\n",
    "        if (newNode == F):\n",
    "            root.right = Node(random.choice(F))\n",
    "            generate_tree(size-1, root.right)\n",
    "        else:\n",
    "            root.right = Node(random.choice(T))\n",
    "        \n",
    "        #left node\n",
    "        newNode = random.choice(ran)\n",
    "        if (newNode == F):\n",
    "            root.left = Node(random.choice(F))\n",
    "            generate_tree(size-1,root.left)\n",
    "        else:\n",
    "            root.left = Node(random.choice(T))\n",
    "root = Node(random.choice(F))"
   ]
  },
  {
   "cell_type": "code",
   "execution_count": 60,
   "id": "interpreted-latest",
   "metadata": {},
   "outputs": [],
   "source": [
    "def mutateHelper():\n",
    "    mutation = Node(random.choice(F))\n",
    "    (generate_tree(3, mutation))\n",
    "    return mutation\n",
    "\n",
    "def mutate(tree):\n",
    "    path = []\n",
    "    path = randomSubTree(tree, path)\n",
    "    mutation = mutateHelper()\n",
    "    tree = replaceNode(tree, path, mutation)\n",
    "    return tree\n",
    "\n",
    "\n",
    "rl = [-1,1]\n",
    "tf = [True, True, True, False]\n",
    "def randomSubTree(node, path):\n",
    "    keepGoing = random.choice(tf)\n",
    "    if(keepGoing and len(path) < 3):\n",
    "        nextNode = random.choice([node.right, node.left])\n",
    "        if(nextNode == None):\n",
    "            return path\n",
    "        if(nextNode == node.right):\n",
    "            path.append(1)\n",
    "            randomSubTree(node.right, path)\n",
    "        else:\n",
    "            path.append(-1)\n",
    "            randomSubTree(node.left, path)\n",
    "    return path\n",
    "\n",
    "# this function returns a subtree given a specific path\n",
    "def getNode(node, path):\n",
    "    if(path == []):\n",
    "        return node\n",
    "    if(path[0]==1):\n",
    "        return getNode(node.right, path[1::])\n",
    "    else:\n",
    "        return getNode(node.left, path[1::])\n",
    "\n",
    "#this function changes a node in one tree to another given node\n",
    "def replaceNode(nodeA, pathA, nodeB):\n",
    "    if(pathA == []):\n",
    "        return nodeB\n",
    "    elif(pathA[0] == 1):\n",
    "        return Node(nodeA.val, nodeA.left, replaceNode(nodeA.right, pathA[1::], nodeB))\n",
    "    elif(pathA[0] == -1):\n",
    "        return Node(nodeA.val, replaceNode(nodeA.left, pathA[1::], nodeB), nodeA.right)\n",
    "\n",
    "        \n",
    "\n",
    "def crossover(treeA, treeB): \n",
    "    # determine a random node in each for crossover\n",
    "    pathA = []\n",
    "    pathB = []\n",
    "    pathA = randomSubTree(treeA, pathA)\n",
    "    pathB = randomSubTree(treeB, pathB)\n",
    "    # swapping the random node in both trees\n",
    "    temp = getNode(treeA, pathA)\n",
    "    treeA = replaceNode(treeA, pathA, getNode(treeB, pathB))\n",
    "    treeB = replaceNode(treeB, pathB, temp)\n",
    "    return treeA, treeB\n",
    "    \n",
    "            \n",
    "    "
   ]
  },
  {
   "cell_type": "code",
   "execution_count": 39,
   "id": "representative-scholar",
   "metadata": {},
   "outputs": [
    {
     "name": "stdout",
     "output_type": "stream",
     "text": [
      "First Tree: \n",
      "\n",
      "                              -2\n",
      "\n",
      "                    *\n",
      "\n",
      "                              -1\n",
      "\n",
      "          *\n",
      "\n",
      "                              x\n",
      "\n",
      "                    *\n",
      "\n",
      "                              -3\n",
      "\n",
      "*\n",
      "\n",
      "                    3\n",
      "\n",
      "          +\n",
      "\n",
      "                              -3\n",
      "\n",
      "                    +\n",
      "\n",
      "                              4\n",
      "Second Tree: \n",
      "\n",
      "          4\n",
      "\n",
      "-\n",
      "\n",
      "          x\n",
      "First Tree: \n",
      "\n",
      "                              -2\n",
      "\n",
      "                    *\n",
      "\n",
      "                              -1\n",
      "\n",
      "          *\n",
      "\n",
      "                              x\n",
      "\n",
      "                    *\n",
      "\n",
      "                              -3\n",
      "\n",
      "*\n",
      "\n",
      "          4\n",
      "Second Tree: \n",
      "\n",
      "                    3\n",
      "\n",
      "          +\n",
      "\n",
      "                              -3\n",
      "\n",
      "                    +\n",
      "\n",
      "                              4\n",
      "\n",
      "-\n",
      "\n",
      "          x\n"
     ]
    }
   ],
   "source": [
    "treeA = Node(random.choice(F))\n",
    "generate_tree(3, treeA)\n",
    "treeB = Node(random.choice(F))\n",
    "generate_tree(3, treeB)\n",
    "print(\"First Tree: \")\n",
    "print2D(treeA,0)\n",
    "print(\"Second Tree: \")\n",
    "print2D(treeB,0)\n",
    "\n",
    "treeA, treeB = crossover(treeA, treeB)\n",
    "print(\"First Tree: \")\n",
    "print2D(treeA,0)\n",
    "print(\"Second Tree: \")\n",
    "print2D(treeB,0)"
   ]
  },
  {
   "cell_type": "code",
   "execution_count": 40,
   "id": "imperial-bermuda",
   "metadata": {},
   "outputs": [
    {
     "name": "stdout",
     "output_type": "stream",
     "text": [
      "\n",
      "                    3\n",
      "\n",
      "          +\n",
      "\n",
      "                              -3\n",
      "\n",
      "                    +\n",
      "\n",
      "                              4\n",
      "\n",
      "-\n",
      "\n",
      "          x\n"
     ]
    }
   ],
   "source": [
    "print2D(treeB, 0)\n"
   ]
  },
  {
   "cell_type": "code",
   "execution_count": 41,
   "id": "bound-vinyl",
   "metadata": {},
   "outputs": [],
   "source": [
    "treeB = mutate(treeB)\n"
   ]
  },
  {
   "cell_type": "code",
   "execution_count": 42,
   "id": "falling-assault",
   "metadata": {},
   "outputs": [
    {
     "name": "stdout",
     "output_type": "stream",
     "text": [
      "\n",
      "                              1\n",
      "\n",
      "                    *\n",
      "\n",
      "                              -3\n",
      "\n",
      "          +\n",
      "\n",
      "                              -3\n",
      "\n",
      "                    +\n",
      "\n",
      "                              4\n",
      "\n",
      "-\n",
      "\n",
      "          x\n"
     ]
    }
   ],
   "source": [
    "print2D(treeB, 0)"
   ]
  },
  {
   "cell_type": "markdown",
   "id": "industrial-enzyme",
   "metadata": {},
   "source": [
    "Now we start our training"
   ]
  },
  {
   "cell_type": "code",
   "execution_count": null,
   "id": "greatest-array",
   "metadata": {},
   "outputs": [],
   "source": [
    "population = []\n",
    "for i in range(10):\n",
    "    tree = Node(random.choice(F))\n",
    "    generate_tree(3, tree)\n",
    "    population.append(tree)\n",
    "\n",
    "epochs = 20\n",
    "\n",
    "for i in range(epochs):\n",
    "    new_generation = []\n",
    "    w = []\n",
    "    j = 0\n",
    "    for i in population:\n",
    "        w.append(calculate_mse(data_x, data_y, i))\n",
    "    total = sum(w)\n",
    "    print(w,min(w))\n",
    "    for i in range(len(w)):\n",
    "        w[i] = (total-w[i])/total\n",
    "    while(j < 10):\n",
    "        operator = random.choices(['r','m','c'], weights = [2,5,6], k = 1)[0]\n",
    "        if(operator == 'r'):\n",
    "            child = random.choices(population, weights = w, k = 1)[0]\n",
    "            new_generation.append(child)\n",
    "            j+=1\n",
    "        elif(operator == 'm'):\n",
    "            child = random.choices(population, weights = w, k = 1)[0]\n",
    "            child = mutate(child)\n",
    "            new_generation.append(child)\n",
    "            j+=1\n",
    "        elif(operator == 'c'):\n",
    "            children = random.choices(population, weights = w, k = 2)\n",
    "            childA = children[0]\n",
    "            childB = children[1]\n",
    "            crossover(childA, childB)\n",
    "            new_generation.append(childA)\n",
    "            new_generation.append(childB)\n",
    "            j+=2\n",
    "    population = []\n",
    "    for i in new_generation:\n",
    "        population.append(i)\n",
    "    "
   ]
  },
  {
   "cell_type": "code",
   "execution_count": 43,
   "id": "handed-allocation",
   "metadata": {},
   "outputs": [
    {
     "data": {
      "text/plain": [
       "6"
      ]
     },
     "execution_count": 43,
     "metadata": {},
     "output_type": "execute_result"
    }
   ],
   "source": [
    "sum([1,2,3])"
   ]
  }
 ],
 "metadata": {
  "kernelspec": {
   "display_name": "Python 3",
   "language": "python",
   "name": "python3"
  },
  "language_info": {
   "codemirror_mode": {
    "name": "ipython",
    "version": 3
   },
   "file_extension": ".py",
   "mimetype": "text/x-python",
   "name": "python",
   "nbconvert_exporter": "python",
   "pygments_lexer": "ipython3",
   "version": "3.7.9"
  }
 },
 "nbformat": 4,
 "nbformat_minor": 5
}
