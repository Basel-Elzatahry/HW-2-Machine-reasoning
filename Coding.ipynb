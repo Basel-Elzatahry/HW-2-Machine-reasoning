{
 "cells": [
  {
   "cell_type": "code",
   "execution_count": 1,
   "id": "general-assets",
   "metadata": {},
   "outputs": [],
   "source": [
    "import pandas as pd\n",
    "import random\n",
    "import numpy as np\n",
    "import random\n",
    "import tensorflow as tf"
   ]
  },
  {
   "cell_type": "code",
   "execution_count": 2,
   "id": "lined-passing",
   "metadata": {},
   "outputs": [
    {
     "data": {
      "text/html": [
       "<div>\n",
       "<style scoped>\n",
       "    .dataframe tbody tr th:only-of-type {\n",
       "        vertical-align: middle;\n",
       "    }\n",
       "\n",
       "    .dataframe tbody tr th {\n",
       "        vertical-align: top;\n",
       "    }\n",
       "\n",
       "    .dataframe thead th {\n",
       "        text-align: right;\n",
       "    }\n",
       "</style>\n",
       "<table border=\"1\" class=\"dataframe\">\n",
       "  <thead>\n",
       "    <tr style=\"text-align: right;\">\n",
       "      <th></th>\n",
       "      <th>x</th>\n",
       "      <th>f(x)</th>\n",
       "    </tr>\n",
       "  </thead>\n",
       "  <tbody>\n",
       "    <tr>\n",
       "      <th>0</th>\n",
       "      <td>-0.66</td>\n",
       "      <td>18.37</td>\n",
       "    </tr>\n",
       "    <tr>\n",
       "      <th>1</th>\n",
       "      <td>2.99</td>\n",
       "      <td>5.00</td>\n",
       "    </tr>\n",
       "    <tr>\n",
       "      <th>2</th>\n",
       "      <td>2.65</td>\n",
       "      <td>5.12</td>\n",
       "    </tr>\n",
       "    <tr>\n",
       "      <th>3</th>\n",
       "      <td>-1.72</td>\n",
       "      <td>27.31</td>\n",
       "    </tr>\n",
       "    <tr>\n",
       "      <th>4</th>\n",
       "      <td>4.33</td>\n",
       "      <td>6.76</td>\n",
       "    </tr>\n",
       "    <tr>\n",
       "      <th>5</th>\n",
       "      <td>1.94</td>\n",
       "      <td>6.13</td>\n",
       "    </tr>\n",
       "    <tr>\n",
       "      <th>6</th>\n",
       "      <td>-1.02</td>\n",
       "      <td>21.17</td>\n",
       "    </tr>\n",
       "    <tr>\n",
       "      <th>7</th>\n",
       "      <td>0.05</td>\n",
       "      <td>13.73</td>\n",
       "    </tr>\n",
       "    <tr>\n",
       "      <th>8</th>\n",
       "      <td>-1.77</td>\n",
       "      <td>27.78</td>\n",
       "    </tr>\n",
       "    <tr>\n",
       "      <th>9</th>\n",
       "      <td>1.06</td>\n",
       "      <td>8.76</td>\n",
       "    </tr>\n",
       "  </tbody>\n",
       "</table>\n",
       "</div>"
      ],
      "text/plain": [
       "      x   f(x)\n",
       "0 -0.66  18.37\n",
       "1  2.99   5.00\n",
       "2  2.65   5.12\n",
       "3 -1.72  27.31\n",
       "4  4.33   6.76\n",
       "5  1.94   6.13\n",
       "6 -1.02  21.17\n",
       "7  0.05  13.73\n",
       "8 -1.77  27.78\n",
       "9  1.06   8.76"
      ]
     },
     "execution_count": 2,
     "metadata": {},
     "output_type": "execute_result"
    }
   ],
   "source": [
    "data=pd.read_csv(\"../HW-2-Machine-reasoning/dataset1.csv\")\n",
    "data.head(10)"
   ]
  },
  {
   "cell_type": "code",
   "execution_count": 3,
   "id": "innovative-acoustic",
   "metadata": {},
   "outputs": [
    {
     "data": {
      "text/plain": [
       "0   -0.66\n",
       "1    2.99\n",
       "2    2.65\n",
       "3   -1.72\n",
       "4    4.33\n",
       "5    1.94\n",
       "6   -1.02\n",
       "7    0.05\n",
       "8   -1.77\n",
       "9    1.06\n",
       "Name: x, dtype: float64"
      ]
     },
     "execution_count": 3,
     "metadata": {},
     "output_type": "execute_result"
    }
   ],
   "source": [
    "data_x = data[\"x\"]\n",
    "data_x.head(10)"
   ]
  },
  {
   "cell_type": "code",
   "execution_count": 4,
   "id": "welsh-heather",
   "metadata": {},
   "outputs": [
    {
     "data": {
      "text/plain": [
       "0    18.37\n",
       "1     5.00\n",
       "2     5.12\n",
       "3    27.31\n",
       "4     6.76\n",
       "5     6.13\n",
       "6    21.17\n",
       "7    13.73\n",
       "8    27.78\n",
       "9     8.76\n",
       "Name: f(x), dtype: float64"
      ]
     },
     "execution_count": 4,
     "metadata": {},
     "output_type": "execute_result"
    }
   ],
   "source": [
    "data_y = data[\"f(x)\"]\n",
    "data_y.head(10)"
   ]
  },
  {
   "cell_type": "code",
   "execution_count": 5,
   "id": "generous-festival",
   "metadata": {},
   "outputs": [],
   "source": [
    "F = ['+','-','*','/']"
   ]
  },
  {
   "cell_type": "code",
   "execution_count": 6,
   "id": "historic-judges",
   "metadata": {},
   "outputs": [],
   "source": [
    "T = ['x']+ list(range(-5,6))"
   ]
  },
  {
   "cell_type": "code",
   "execution_count": 7,
   "id": "important-israel",
   "metadata": {},
   "outputs": [],
   "source": [
    "ran = [F,T]"
   ]
  },
  {
   "cell_type": "code",
   "execution_count": 8,
   "id": "accessory-faculty",
   "metadata": {},
   "outputs": [],
   "source": [
    "tf = [True,False]"
   ]
  },
  {
   "cell_type": "code",
   "execution_count": 9,
   "id": "eastern-local",
   "metadata": {},
   "outputs": [
    {
     "name": "stdout",
     "output_type": "stream",
     "text": [
      "['x', -5, -4, -3, -2, -1, 0, 1, 2, 3, 4, 5]\n"
     ]
    }
   ],
   "source": [
    "print(T)"
   ]
  },
  {
   "cell_type": "code",
   "execution_count": 10,
   "id": "organizational-hampshire",
   "metadata": {},
   "outputs": [],
   "source": [
    "class Node():\n",
    "    def __init__(self, val):\n",
    "        self.val = val\n",
    "        self.left = None\n",
    "        self.right = None\n",
    "    def insert_left(self, child):\n",
    "        if (self.left == None):\n",
    "            self.left = child\n",
    "        else:\n",
    "            child.left = self.left\n",
    "            self.left = child\n",
    "    def insert_right(self, child):\n",
    "        if(self.right == None):\n",
    "            self.right = child\n",
    "        else:\n",
    "            child.right = self.right\n",
    "            self.right = child\n",
    "    def evaluate(self, x):\n",
    "        if(self.val in T):\n",
    "            if(self.val == 'x'):\n",
    "                return int(x)\n",
    "            else:\n",
    "                return int(self.val)\n",
    "        elif(self.val in F):\n",
    "            if(self.val == '+'):\n",
    "                left = self.left.evaluate(x)\n",
    "                right = self.right.evaluate(x)\n",
    "                return left + right\n",
    "            elif(self.val == '-'):\n",
    "                left = self.left.evaluate(x)\n",
    "                right = self.right.evaluate(x)\n",
    "                return left - right\n",
    "            elif(self.val == '*'):\n",
    "                left = self.left.evaluate(x)\n",
    "                right = self.right.evaluate(x)\n",
    "                return left * right\n",
    "            elif(self.val == '/'):\n",
    "                if(self.right.evaluate(x) == 0):\n",
    "                    return 1\n",
    "                left = self.left.evaluate(x)\n",
    "                right = self.right.evaluate(x)\n",
    "                return left / right\n",
    "    def fitness(self, x, y):\n",
    "        return abs(self.evaluate(x)-y)\n",
    "        "
   ]
  },
  {
   "cell_type": "code",
   "execution_count": 11,
   "id": "smoking-cargo",
   "metadata": {},
   "outputs": [],
   "source": [
    "\n",
    "def print2D(root, space) :\n",
    "\n",
    "    if (root == None) :\n",
    "        return\n",
    "    # Increase distance between levels\n",
    "    space += 10\n",
    "\n",
    "    print2D(root.right, space)\n",
    "\n",
    "    # Print current node after space\n",
    "    print()\n",
    "    for i in range(10, space):\n",
    "        print(end = \" \")\n",
    "    print(root.val)\n",
    "\n",
    "    print2D(root.left, space)\n",
    "\n"
   ]
  },
  {
   "cell_type": "code",
   "execution_count": 12,
   "id": "hourly-arthur",
   "metadata": {},
   "outputs": [],
   "source": [
    "def calculate_mse(x_data, y_data, tree):\n",
    "    total = 0\n",
    "    for i in range(len(x_data)):\n",
    "        total += (tree.fitness(x_data[i],y_data[i]) ** 2)\n",
    "    return total/len(x_data)"
   ]
  },
  {
   "cell_type": "code",
   "execution_count": 13,
   "id": "tired-belarus",
   "metadata": {},
   "outputs": [],
   "source": [
    "def generate_tree_shapes(size):\n",
    "    root = Node(random.choice(random.choice(ran)))\n",
    "    for i in range(size):\n",
    "        if(random.choice(tf)):\n",
    "            root.insert_right(Node(random.choice(random.choice(ran))))\n",
    "            if(random.choice(tf)):\n",
    "                root.right.insert_right(Node(random.choice(random.choice(ran))))\n",
    "            if(random.choice(tf)):\n",
    "                root.right.insert_left(Node(random.choice(random.choice(ran))))\n",
    "        \n",
    "        if(random.choice(tf)):\n",
    "            root.insert_left(Node(random.choice(random.choice(ran))))\n",
    "            if(random.choice(tf)):\n",
    "                root.left.insert_right(Node(random.choice(random.choice(ran))))\n",
    "            if(random.choice(tf)):\n",
    "                root.left.insert_left(Node(random.choice(random.choice(ran))))\n",
    "\n",
    "    return root"
   ]
  },
  {
   "cell_type": "code",
   "execution_count": 66,
   "id": "growing-candy",
   "metadata": {},
   "outputs": [
    {
     "name": "stdout",
     "output_type": "stream",
     "text": [
      "\n",
      "                              -4\n",
      "\n",
      "                    *\n",
      "\n",
      "                              -4\n",
      "\n",
      "          /\n",
      "\n",
      "                    -1\n",
      "\n",
      "+\n",
      "\n",
      "                              -3\n",
      "\n",
      "                    *\n",
      "\n",
      "                              4\n",
      "\n",
      "          -\n",
      "\n",
      "                    x\n"
     ]
    },
    {
     "data": {
      "text/plain": [
       "13.9375"
      ]
     },
     "execution_count": 66,
     "metadata": {},
     "output_type": "execute_result"
    }
   ],
   "source": [
    "\n",
    "def generate_tree(size, root):\n",
    "    if(size == 1):\n",
    "        root.right = Node(random.choice(T))\n",
    "        root.left = Node(random.choice(T))\n",
    "    else:\n",
    "        #right node\n",
    "        newNode = random.choice(ran)\n",
    "        if (newNode == F):\n",
    "            root.right = Node(random.choice(F))\n",
    "            generate_tree(size-1, root.right)\n",
    "        else:\n",
    "            root.right = Node(random.choice(T))\n",
    "        \n",
    "        #left node\n",
    "        newNode = random.choice(ran)\n",
    "        if (newNode == F):\n",
    "            root.left = Node(random.choice(F))\n",
    "            generate_tree(size-1,root.left)\n",
    "        else:\n",
    "            root.left = Node(random.choice(T))\n",
    "root = Node(random.choice(F))\n",
    "generate_tree(3, root)\n",
    "print2D(root, 0)\n",
    "root.evaluate(2)"
   ]
  },
  {
   "cell_type": "code",
   "execution_count": 65,
   "id": "japanese-spare",
   "metadata": {},
   "outputs": [],
   "source": [
    "def mutate(node):\n",
    "    if node.val in F:\n",
    "        node.val = random.choice(F)\n",
    "    elif node.val in T:\n",
    "        node.val = random.choice(T)\n",
    "        "
   ]
  },
  {
   "cell_type": "code",
   "execution_count": 63,
   "id": "extreme-dining",
   "metadata": {},
   "outputs": [],
   "source": [
    "# root = Node('+')\n",
    "# root.left = Node('+')\n",
    "# root.right = Node('-')\n",
    "# root.left.left = Node(4)\n",
    "# root.left.right = Node(5)\n",
    "# root.right.left = Node(5)\n",
    "# root.right.right = Node('x')\n",
    "# print2D(root,0)"
   ]
  },
  {
   "cell_type": "code",
   "execution_count": 70,
   "id": "romance-needle",
   "metadata": {},
   "outputs": [],
   "source": [
    "tree = generate_tree(3, Node(random.choice(F)))\n",
    "print2D(tree,0)"
   ]
  },
  {
   "cell_type": "code",
   "execution_count": 71,
   "id": "exciting-market",
   "metadata": {},
   "outputs": [
    {
     "ename": "AttributeError",
     "evalue": "'NoneType' object has no attribute 'evaluate'",
     "output_type": "error",
     "traceback": [
      "\u001b[0;31m---------------------------------------------------------------------------\u001b[0m",
      "\u001b[0;31mAttributeError\u001b[0m                            Traceback (most recent call last)",
      "\u001b[0;32m<ipython-input-71-f3cef70e48e1>\u001b[0m in \u001b[0;36m<module>\u001b[0;34m\u001b[0m\n\u001b[0;32m----> 1\u001b[0;31m \u001b[0mtree\u001b[0m\u001b[0;34m.\u001b[0m\u001b[0mevaluate\u001b[0m\u001b[0;34m(\u001b[0m\u001b[0mdata_x\u001b[0m\u001b[0;34m[\u001b[0m\u001b[0;36m1\u001b[0m\u001b[0;34m]\u001b[0m\u001b[0;34m)\u001b[0m\u001b[0;34m\u001b[0m\u001b[0;34m\u001b[0m\u001b[0m\n\u001b[0m",
      "\u001b[0;31mAttributeError\u001b[0m: 'NoneType' object has no attribute 'evaluate'"
     ]
    }
   ],
   "source": [
    "tree.evaluate(data_x[1])"
   ]
  },
  {
   "cell_type": "code",
   "execution_count": 22,
   "id": "fourth-staff",
   "metadata": {},
   "outputs": [
    {
     "data": {
      "text/plain": [
       "5.0"
      ]
     },
     "execution_count": 22,
     "metadata": {},
     "output_type": "execute_result"
    }
   ],
   "source": [
    "tree.fitness(data_x[1],data_y[1])"
   ]
  },
  {
   "cell_type": "code",
   "execution_count": 23,
   "id": "facial-pakistan",
   "metadata": {},
   "outputs": [
    {
     "data": {
      "text/plain": [
       "5.0"
      ]
     },
     "execution_count": 23,
     "metadata": {},
     "output_type": "execute_result"
    }
   ],
   "source": [
    "data_y[1]"
   ]
  },
  {
   "cell_type": "code",
   "execution_count": null,
   "id": "joint-radical",
   "metadata": {},
   "outputs": [],
   "source": []
  },
  {
   "cell_type": "code",
   "execution_count": 27,
   "id": "irish-thing",
   "metadata": {},
   "outputs": [
    {
     "data": {
      "text/plain": [
       "946.7575790320051"
      ]
     },
     "execution_count": 27,
     "metadata": {},
     "output_type": "execute_result"
    }
   ],
   "source": [
    "calculate_mse(data_x, data_y, generate_tree(3))"
   ]
  },
  {
   "cell_type": "code",
   "execution_count": 33,
   "id": "restricted-drilling",
   "metadata": {},
   "outputs": [
    {
     "data": {
      "text/plain": [
       "True"
      ]
     },
     "execution_count": 33,
     "metadata": {},
     "output_type": "execute_result"
    }
   ],
   "source": [
    "5 != 4"
   ]
  },
  {
   "cell_type": "code",
   "execution_count": null,
   "id": "burning-clear",
   "metadata": {},
   "outputs": [],
   "source": []
  }
 ],
 "metadata": {
  "kernelspec": {
   "display_name": "Python 3",
   "language": "python",
   "name": "python3"
  },
  "language_info": {
   "codemirror_mode": {
    "name": "ipython",
    "version": 3
   },
   "file_extension": ".py",
   "mimetype": "text/x-python",
   "name": "python",
   "nbconvert_exporter": "python",
   "pygments_lexer": "ipython3",
   "version": "3.7.9"
  }
 },
 "nbformat": 4,
 "nbformat_minor": 5
}
